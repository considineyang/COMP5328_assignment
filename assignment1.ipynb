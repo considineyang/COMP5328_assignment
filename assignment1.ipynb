{
 "cells": [
  {
   "cell_type": "markdown",
   "id": "4bbf6c52",
   "metadata": {},
   "source": [
    "# COMP5328 - Advanced Machine Learning\n",
    "## Assignment 1: Non-negative Matrix Factorization\n"
   ]
  },
  {
   "cell_type": "markdown",
   "id": "ebdaf49e",
   "metadata": {},
   "source": [
    "(Semester 2, 2023)\n",
    "\n",
    "In this ipython notebook, we provide some example code for loading data and evaluation for assignment1.\n",
    "\n",
    "Load Data.\n",
    "- ORL dataset.\n",
    "- Extended YaleB dataset.\n",
    "\n",
    "Perform Evaluation.\n",
    "- Root Means Square Errors (RMSE).\n",
    "- Accuracy, NMI.\n",
    "\n",
    "Lecturers: Dr. Imdad Ullah\n",
    "\n",
    "Tutors: Jaime Ruiz Serra, Yuchen Shen, Daniel Friedrich, Rafiul Nakib, Siyu Xu, Yongpei (Michael) Ma\n",
    "\n",
    "Note: All datasets can be used only for this assignment and you are not allowed to distribute these datasets. If you want to use AR dataset, you need to apply it by yourself (we do not provide AR dataset due to the problem of license, please find more details in http://www2.ece.ohio-state.edu/~aleix/ARdatabase.html)."
   ]
  },
  {
   "cell_type": "markdown",
   "id": "86453029",
   "metadata": {},
   "source": [
    "### 1. Load Dataset"
   ]
  },
  {
   "cell_type": "markdown",
   "id": "79838e9d",
   "metadata": {},
   "source": [
    "#### 1.1 Load ORL Dataset and Extended YaleB Dataset.\n",
    "- ORL dataset contains ten different images of each of 40 distinct subjects. For some subjects, the images were taken at different times, varying the lighting, facial expressions (open / closed eyes, smiling / not smiling) and facial details (glasses / no glasses). All the images were taken against a dark homogeneous background with the subjects in an upright, frontal position (with tolerance for some side movement). The size of each image is 92x112 pixels, with 256 grey levels per pixel. To further reduce the computation complexity, you can resize all images to 30x37 pixels.\n",
    "\n",
    "- Extended YaleB dataset contains 2414 images of 38 human subjects under 9 poses and 64 illumination conditions. All images are manually aligned, cropped, and then resized to 168x192 pixels. To further reduce the computation complexity, you can resize all images to 42x48 pixels."
   ]
  },
  {
   "cell_type": "code",
   "execution_count": 1,
   "id": "6fbfe6a1",
   "metadata": {},
   "outputs": [],
   "source": [
    "import os\n",
    "import numpy as np\n",
    "from PIL import Image\n",
    "from numpy import sqrt\n",
    "\n",
    "def load_data(root='data/CroppedYaleB', reduce=4):\n",
    "    \"\"\" \n",
    "    Load ORL (or Extended YaleB) dataset to numpy array.\n",
    "    \n",
    "    Args:\n",
    "        root: path to dataset.\n",
    "        reduce: scale factor for zooming out images.\n",
    "        \n",
    "    \"\"\" \n",
    "    images, labels = [], []\n",
    "\n",
    "    for i, person in enumerate(sorted(os.listdir(root))):\n",
    "        \n",
    "        if not os.path.isdir(os.path.join(root, person)):\n",
    "            continue\n",
    "        \n",
    "        for fname in os.listdir(os.path.join(root, person)):    \n",
    "            \n",
    "            # Remove background images in Extended YaleB dataset.\n",
    "            if fname.endswith('Ambient.pgm'):\n",
    "                continue\n",
    "            \n",
    "            if not fname.endswith('.pgm'):\n",
    "                continue\n",
    "                \n",
    "            # load image.\n",
    "            img = Image.open(os.path.join(root, person, fname))\n",
    "            img = img.convert('L') # grey image.\n",
    "\n",
    "            # reduce computation complexity.\n",
    "            img = img.resize([s//reduce for s in img.size])\n",
    "\n",
    "            # TODO: preprocessing.\n",
    "\n",
    "            # convert image to numpy array.\n",
    "            img = np.asarray(img).reshape((-1,1))\n",
    "\n",
    "            # collect data and label.\n",
    "            images.append(img)\n",
    "            labels.append(i)\n",
    "\n",
    "    # concate all images and labels.\n",
    "    images = np.concatenate(images, axis=1)\n",
    "    labels = np.array(labels)\n",
    "\n",
    "    return images, labels"
   ]
  },
  {
   "cell_type": "code",
   "execution_count": 2,
   "id": "b8deccc6",
   "metadata": {},
   "outputs": [
    {
     "name": "stdout",
     "output_type": "stream",
     "text": [
      "ORL dataset: X_hat.shape = (2576, 400), Y_hat.shape = (400,)\n",
      "Extended YalB dataset: X_hat.shape = (2016, 2414), Y_hat.shape = (2414,)\n"
     ]
    }
   ],
   "source": [
    "# Load ORL dataset.\n",
    "X_hat, Y_hat = load_data(root='data/ORL', reduce=2)\n",
    "print('ORL dataset: X_hat.shape = {}, Y_hat.shape = {}'.format(X_hat.shape, Y_hat.shape))\n",
    "\n",
    "# Load Extended YaleB dataset.\n",
    "X_hat, Y_hat = load_data(root='data/CroppedYaleB', reduce=4)\n",
    "print('Extended YalB dataset: X_hat.shape = {}, Y_hat.shape = {}'.format(X_hat.shape, Y_hat.shape))"
   ]
  },
  {
   "cell_type": "markdown",
   "id": "056fa576",
   "metadata": {},
   "source": [
    "#### 1.2 Load AR Dataset (Optional)\n",
    "AR dataset contains 2600 images of 100 individuals (50 male and 50 female). All images have been cropped and resized to 120x165 pixels. To further reduce the computation complexity, you can resize all images to 40x55 pixels."
   ]
  },
  {
   "cell_type": "code",
   "execution_count": 3,
   "id": "6a9ba1ff",
   "metadata": {},
   "outputs": [],
   "source": [
    "def load_data_AR(root='data/CroppedAR', reduce=3):\n",
    "    \"\"\" \n",
    "    Load AR dataset to numpy array.\n",
    "    \n",
    "    Args:\n",
    "        root: path to AR dataset.\n",
    "        reduce: scale factor for zooming out images.\n",
    "        \n",
    "    \"\"\" \n",
    "    images, labels = [], []\n",
    "    \n",
    "    for fname in os.listdir(root):\n",
    "        \n",
    "        if not fname.endswith('.bmp'):\n",
    "            continue\n",
    "        \n",
    "        # get label.\n",
    "        label = int(fname[2:5])\n",
    "        if fname[0] == 'W': # start from 50\n",
    "            label += 50\n",
    "        \n",
    "        # load image.\n",
    "        img = Image.open(os.path.join(root, fname))\n",
    "        img = img.convert('L') # grey\n",
    "        \n",
    "        # reduce computation complexity.\n",
    "        img = img.resize([s//reduce for s in img.size])\n",
    "   \n",
    "        # TODO: preprocessing.\n",
    "        \n",
    "        # convert image to numpy array.\n",
    "        img = np.asarray(img).reshape((-1,1))\n",
    "        \n",
    "        # collect data and label.\n",
    "        images.append(img)\n",
    "        labels.append(label)\n",
    "        \n",
    "    # concate all images and labels.\n",
    "    images = np.concatenate(images, axis=1)\n",
    "    labels = np.array(labels)\n",
    "    \n",
    "    return images, labels"
   ]
  },
  {
   "cell_type": "markdown",
   "id": "5486ba0f",
   "metadata": {},
   "source": [
    "### 2. Evaluation Metrics\n",
    "#### 2.1 Root Means Square Errors (RMSE)\n",
    "To compare the robustness of different NMF algorithms, you can use the Root Means Square Errors. Let $X$ denote the contaminated dataset (by adding noise), and  $\\hat X$  denote the clean dataset. Let  $R$ and  $D$ denote the factorization results on $𝑉$, Root Means Square Errors then can be defined as follows:\n",
    "$RMSE= ||\\hat X - RD||_F$"
   ]
  },
  {
   "cell_type": "code",
   "execution_count": 4,
   "id": "b15ed493",
   "metadata": {},
   "outputs": [
    {
     "name": "stdout",
     "output_type": "stream",
     "text": [
      "==> Load ORL dataset ...\n",
      "X_hat.shape=(1110, 400), Y_hat.shape=(400,)\n"
     ]
    },
    {
     "data": {
      "image/png": "[encoded data removed]",
      "text/plain": [
       "<Figure size 1000x300 with 3 Axes>"
      ]
     },
     "metadata": {},
     "output_type": "display_data"
    },
    {
     "name": "stdout",
     "output_type": "stream",
     "text": [
      "==> Apply NMF ...\n",
      "D.shape=(1110, 40), R.shape=(40, 400)\n",
      "==> Evaluate RMSE ...\n",
      "RMSE = 37.3736560820005\n"
     ]
    }
   ],
   "source": [
    "# Load dataset.\n",
    "print('==> Load ORL dataset ...')\n",
    "X_hat, Y_hat = load_data('data/ORL', reduce=3)\n",
    "print('X_hat.shape={}, Y_hat.shape={}'.format(X_hat.shape, Y_hat.shape))\n",
    "\n",
    "# Add Noise.\n",
    "X_noise = np.random.rand(*X_hat.shape) * 40\n",
    "X = X_hat + X_noise\n",
    "\n",
    "# Plot result.\n",
    "import matplotlib.pyplot as plt\n",
    "img_size = [i//3 for i in (92, 112)] # ORL\n",
    "ind = 2 # index of demo image.\n",
    "plt.figure(figsize=(10,3))\n",
    "plt.subplot(131)\n",
    "plt.imshow(X_hat[:,ind].reshape(img_size[1],img_size[0]), cmap=plt.cm.gray)\n",
    "plt.title('Image(Original)')\n",
    "plt.subplot(132)\n",
    "plt.imshow(X_noise[:,ind].reshape(img_size[1],img_size[0]), cmap=plt.cm.gray)\n",
    "plt.title('Noise')\n",
    "plt.subplot(133)\n",
    "plt.imshow(X[:,ind].reshape(img_size[1],img_size[0]), cmap=plt.cm.gray)\n",
    "plt.title('Image(Noise)')\n",
    "plt.show()\n",
    "\n",
    "# TODO: you should implement NMF algorithms by yourself.\n",
    "print('==> Apply NMF ...')\n",
    "from sklearn.decomposition import NMF\n",
    "from sklearn.metrics import mean_squared_error\n",
    "model = NMF(n_components=len(set(Y_hat))) # set n_components to num_classes.\n",
    "D = model.fit_transform(X)\n",
    "R = model.components_\n",
    "print('D.shape={}, R.shape={}'.format(D.shape, R.shape))\n",
    "\n",
    "# Evaluate Root Means Square Errors .\n",
    "print('==> Evaluate RMSE ...')\n",
    "RMSE = sqrt(mean_squared_error(X_hat, D.dot(R)))\n",
    "print('RMSE = {}'.format(RMSE))"
   ]
  },
  {
   "cell_type": "markdown",
   "id": "e3462027",
   "metadata": {},
   "source": [
    "### 2.2 Evaluate Clustering Performance\n",
    "1. Accuracy\n",
    "\n",
    "    $Acc(Y, Y_{pred}) = \\frac{1}{n}\\sum_{i=1}^n 1\\{Y_{pred(i)} == Y(i)\\}$\n",
    "2. Normalized Mutual Information (NMI).\n",
    "\n",
    "    $NMI(Y, Y_{pred}) = \\frac{2*I(Y, Y_{pred})}{H(Y) + H(Y_{pred})}$\n",
    "   \n",
    "  Where $I(.,.)$ is mutual information and  $𝐻(⋅)$ is entropy."
   ]
  },
  {
   "cell_type": "code",
   "execution_count": 5,
   "id": "b9e1927d",
   "metadata": {},
   "outputs": [
    {
     "name": "stdout",
     "output_type": "stream",
     "text": [
      "==> Evaluate Acc and NMI ...\n",
      "Acc(NMI) = 0.3500 (0.5368)\n"
     ]
    }
   ],
   "source": [
    "from collections import Counter\n",
    "from sklearn.cluster import KMeans\n",
    "from sklearn.metrics import accuracy_score\n",
    "from sklearn.metrics import normalized_mutual_info_score\n",
    "\n",
    "def assign_cluster_label(X, Y):\n",
    "    kmeans = KMeans(n_clusters=len(set(Y))).fit(X)\n",
    "    Y_pred = np.zeros(Y.shape)\n",
    "    for i in set(kmeans.labels_):\n",
    "        ind = kmeans.labels_ == i\n",
    "        Y_pred[ind] = Counter(Y[ind]).most_common(1)[0][0] # assign label.\n",
    "    return Y_pred\n",
    "\n",
    "print('==> Evaluate Acc and NMI ...')\n",
    "\n",
    "# Assign cluster labels.\n",
    "Y_pred = assign_cluster_label(R.T, Y_hat)\n",
    "\n",
    "acc = accuracy_score(Y_hat, Y_pred)\n",
    "nmi = normalized_mutual_info_score(Y_hat, Y_pred)\n",
    "print('Acc(NMI) = {:.4f} ({:.4f})'.format(acc, nmi))"
   ]
  }
 ],
 "metadata": {
  "kernelspec": {
   "display_name": "Python 3 (ipykernel)",
   "language": "python",
   "name": "python3"
  },
  "language_info": {
   "codemirror_mode": {
    "name": "ipython",
    "version": 3
   },
   "file_extension": ".py",
   "mimetype": "text/x-python",
   "name": "python",
   "nbconvert_exporter": "python",
   "pygments_lexer": "ipython3",
   "version": "3.9.12"
  }
 },
 "nbformat": 4,
 "nbformat_minor": 5
}
